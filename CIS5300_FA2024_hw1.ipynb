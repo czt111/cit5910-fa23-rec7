{
  "nbformat": 4,
  "nbformat_minor": 0,
  "metadata": {
    "colab": {
      "provenance": [],
      "include_colab_link": true
    },
    "kernelspec": {
      "name": "python3",
      "display_name": "Python 3"
    },
    "language_info": {
      "name": "python"
    }
  },
  "cells": [
    {
      "cell_type": "markdown",
      "metadata": {
        "id": "view-in-github",
        "colab_type": "text"
      },
      "source": [
        "<a href=\"https://colab.research.google.com/github/czt111/cit5910-fa23-rec7/blob/main/CIS5300_FA2024_hw1.ipynb\" target=\"_parent\"><img src=\"https://colab.research.google.com/assets/colab-badge.svg\" alt=\"Open In Colab\"/></a>"
      ]
    },
    {
      "cell_type": "markdown",
      "source": [
        "# Homework 1: Text Classification\n",
        "## Due Date: Mon, Sep 16, 2024, 11:59 PM EST\n",
        "- **Overview**: For this assignment, we’ll be building a text classifier. The goal of our text classifer will be to distinguish between words that are simple and words that are complex. Example simple words are `heard`, `sat`, and `town`, and example complex words are `abdicate`, `detained`, and `vintners`. Distinguishing between simple and complex words is the first step in a larger NLP task called text simplification, which aims to replace complex words with simpler synonyms. Text simplification is potentially useful for re-writing texts so that they can be more easily understood by younger readers, people learning English as a second language, or people with learning disabilities.\n",
        "\n",
        "- **Learning goals**:\n",
        "    - Understand an important class of NLP evaluation methods (precision, recall and F1), and implement them yourself.\n",
        "    - Employ common experimental design practices in NLP. Split the annotated data into training/development/test sets, implement simple baselines to determine how difficult the task is, and experiment with a range of features and models.\n",
        "    - Get an introduction to `sklearn`, an excellent machine learning Python package.\n",
        "\n",
        "- **Data**: We will provide you with training and development data that has been manually labeled. We will also give you a test set without labels. You will build a classifier to predict the labels on our test set. You can upload your classifier’s predictions to Gradescope. We will score its predictions and maintain a leaderboard showing whose classifier has the best performance.\n",
        "\n",
        "## Recommended Readings\n",
        "- [Naive Bayes Classification and Sentiment](https://web.stanford.edu/~jurafsky/slp3/4.pdf) Dan Jurafsky and James H. Martin. Speech and Language Processing (3rd edition draft).\n",
        "- [Logistic Regression](https://web.stanford.edu/~jurafsky/slp3/5.pdf) Dan Jurafsky and James H. Martin. Speech and Language Processing (3rd edition draft) .\n",
        "- [Problems in Current Text Simplification Research: New Data Can Help](http://www.cis.upenn.edu/~ccb/publications/new-data-for-text-simplification.pdf) Wei Xu, Chris Callison-Burch, and Courtney Napoles. TACL 2015.\n",
        "- [Comparison of Techniques to Automatically Identify Complex Words](http://aclweb.org/anthology/P/P13/P13-3015.pdf) Matthew Shardlow. ACL 2013.\n",
        "- [SemEval 2016 Task 11: Complex Word Identification](https://www.researchgate.net/profile/Gustavo_Paetzold/publication/305334627_SemEval_2016_Task_11_Complex_Word_Identification/links/57bab70a08ae14f440bd9722/SemEval-2016-Task-11-Complex-Word-Identification.pdf) Gustavo Paetzold and Lucia Specia. ACL 2016."
      ],
      "metadata": {
        "id": "QUzMpi3XpWYg"
      }
    },
    {
      "cell_type": "markdown",
      "metadata": {
        "id": "IDv9qN5c9357"
      },
      "source": [
        "## Setup 1: PennGrader Setup"
      ]
    },
    {
      "cell_type": "code",
      "execution_count": 1,
      "metadata": {
        "id": "uCEi3Stv9lun"
      },
      "outputs": [],
      "source": [
        "## DO NOT CHANGE ANYTHING, JUST RUN\n",
        "%%capture\n",
        "!pip install penngrader-client dill"
      ]
    },
    {
      "cell_type": "code",
      "source": [
        "%%writefile notebook-config.yaml\n",
        "\n",
        "grader_api_url: 'https://23whrwph9h.execute-api.us-east-1.amazonaws.com/default/Grader23'\n",
        "grader_api_key: 'flfkE736fA6Z8GxMDJe2q8Kfk8UDqjsG3GVqOFOa'\n"
      ],
      "metadata": {
        "id": "AsOtK_aN65OD",
        "colab": {
          "base_uri": "https://localhost:8080/"
        },
        "outputId": "1bc8b109-0b60-4c77-d31f-004f1a8f2e06"
      },
      "execution_count": 2,
      "outputs": [
        {
          "output_type": "stream",
          "name": "stdout",
          "text": [
            "Writing notebook-config.yaml\n"
          ]
        }
      ]
    },
    {
      "cell_type": "code",
      "source": [
        "!cat notebook-config.yaml"
      ],
      "metadata": {
        "id": "A54Qn8Fc65rr",
        "colab": {
          "base_uri": "https://localhost:8080/"
        },
        "outputId": "d5bbbb00-390b-4554-b4b5-84c7d192f71b"
      },
      "execution_count": null,
      "outputs": [
        {
          "output_type": "stream",
          "name": "stdout",
          "text": [
            "\n",
            "grader_api_url: 'https://23whrwph9h.execute-api.us-east-1.amazonaws.com/default/Grader23'\n",
            "grader_api_key: 'flfkE736fA6Z8GxMDJe2q8Kfk8UDqjsG3GVqOFOa'\n"
          ]
        }
      ]
    },
    {
      "cell_type": "code",
      "source": [
        "from penngrader.grader import *\n",
        "\n",
        "## TODO - Start\n",
        "STUDENT_ID = 25678954 # YOUR PENN-ID GOES HERE AS AN INTEGER#\n",
        "## TODO - End\n",
        "\n",
        "SECRET = STUDENT_ID\n",
        "grader = PennGrader('notebook-config.yaml', 'cis5300_fa2024_HW1', STUDENT_ID, SECRET)"
      ],
      "metadata": {
        "id": "pqLZxuPW65o0",
        "colab": {
          "base_uri": "https://localhost:8080/"
        },
        "outputId": "fba300b3-e682-482e-dab2-8f02c6ac2899"
      },
      "execution_count": 3,
      "outputs": [
        {
          "output_type": "stream",
          "name": "stdout",
          "text": [
            "PennGrader initialized with Student ID: 25678954\n",
            "\n",
            "Make sure this correct or we will not be able to store your grade\n"
          ]
        }
      ]
    },
    {
      "cell_type": "code",
      "source": [
        "def reload_grader():\n",
        "    grader = PennGrader('notebook-config.yaml', 'cis5300_fa2024_HW1', STUDENT_ID, SECRET)\n",
        "    return grader"
      ],
      "metadata": {
        "id": "e8Oo9CBh65mO"
      },
      "execution_count": null,
      "outputs": []
    },
    {
      "cell_type": "code",
      "source": [
        "# check if the PennGrader is set up correctly\n",
        "# do not change this cell, see if you get 4/4 (Mark gives 2/4, showing the grading is working but that you haven't changed the info yet)!\n",
        "name_str = 'Mark Yatskar'\n",
        "grader.grade(test_case_id = 'name_test', answer = name_str)"
      ],
      "metadata": {
        "id": "XiuH5IC47AKJ",
        "colab": {
          "base_uri": "https://localhost:8080/"
        },
        "outputId": "e4adcda4-2f8f-4987-e2df-4fc5d321846a"
      },
      "execution_count": null,
      "outputs": [
        {
          "output_type": "stream",
          "name": "stdout",
          "text": [
            "Correct! You earned 4/4 points. You are a star!\n",
            "\n",
            "Your submission has been successfully recorded in the gradebook.\n"
          ]
        }
      ]
    },
    {
      "cell_type": "markdown",
      "metadata": {
        "id": "wHeB9GLB-PO1"
      },
      "source": [
        "## Setup 2: Dataset / Packages\n",
        "- **Run the following cells without changing anything!**\n",
        "- [Loading dataset from huggingface](https://huggingface.co/docs/datasets/v1.8.0/loading_datasets.html#from-local-files)"
      ]
    },
    {
      "cell_type": "code",
      "source": [
        "from collections import defaultdict\n",
        "import gzip\n",
        "\n",
        "from sklearn.linear_model import LogisticRegression\n",
        "from sklearn.naive_bayes import GaussianNB\n",
        "import numpy as np\n",
        "from tqdm import tqdm"
      ],
      "metadata": {
        "id": "g2eaUdk__tUv"
      },
      "execution_count": null,
      "outputs": []
    },
    {
      "cell_type": "code",
      "source": [
        "%%capture\n",
        "# data\n",
        "!gdown 1np28I4b1Q1K6K49oiVx3hqEoh-KMbSml #dev https://drive.google.com/file/d/1np28I4b1Q1K6K49oiVx3hqEoh-KMbSml/view?usp=drive_link\n",
        "!gdown 1qu6CELzKzRM2x6qvyuaX5SWPIleHDfs6 # unlabeled https://drive.google.com/file/d/1qu6CELzKzRM2x6qvyuaX5SWPIleHDfs6/view?usp=drive_link\n",
        "!gdown 1JL7UK17loFTOf0WW5mLZgZMTWXZq3THW # train https://drive.google.com/file/d/1JL7UK17loFTOf0WW5mLZgZMTWXZq3THW/view?usp=drive_link\n",
        "!gdown 1ppyM-7kFyabNG8zOudsTuhWl-2j-zy5Z # https://drive.google.com/file/d/1ppyM-7kFyabNG8zOudsTuhWl-2j-zy5Z/view?usp=sharing\n",
        "!curl -L -o ngram_counts.txt.gz http://www.cis.upenn.edu/~cis5300/18sp/data/ngram_counts.txt.gz"
      ],
      "metadata": {
        "id": "rzmRKkBzqFq9"
      },
      "execution_count": null,
      "outputs": []
    },
    {
      "cell_type": "code",
      "source": [
        "!gdown 1rkYaFae_qJk1AlHORDLH3aPH47f9DA8s"
      ],
      "metadata": {
        "id": "rfCcEa82dwjv",
        "colab": {
          "base_uri": "https://localhost:8080/"
        },
        "outputId": "e3beb32a-1971-48c7-b54b-c41a7e0f20a4"
      },
      "execution_count": null,
      "outputs": [
        {
          "output_type": "stream",
          "name": "stdout",
          "text": [
            "Downloading...\n",
            "From: https://drive.google.com/uc?id=1rkYaFae_qJk1AlHORDLH3aPH47f9DA8s\n",
            "To: /content/ngram_counts.txt.gz\n",
            "100% 44.5M/44.5M [00:00<00:00, 174MB/s]\n"
          ]
        }
      ]
    },
    {
      "cell_type": "code",
      "source": [],
      "metadata": {
        "id": "4HBHau8ddz95"
      },
      "execution_count": null,
      "outputs": []
    },
    {
      "cell_type": "code",
      "source": [
        "train_file = \"complex_words_training.txt\"\n",
        "dev_file = \"complex_words_development.txt\"\n",
        "test_file = \"complex_words_test_unlabeled.txt\"\n",
        "mini_test_file = 'complex_words_test_mini.txt'"
      ],
      "metadata": {
        "id": "7Adfo88__puO"
      },
      "execution_count": null,
      "outputs": []
    },
    {
      "cell_type": "code",
      "source": [
        "########## DO NOT CHANGE ##########\n",
        "## Loads in the words and labels of one of the datasets\n",
        "def load_labeled_file(data_file):\n",
        "    words = []\n",
        "    labels = []\n",
        "    with open(data_file, 'rt', encoding=\"utf8\") as f:\n",
        "        i = 0\n",
        "        for line in f:\n",
        "            if i > 0:\n",
        "                line_split = line[:-1].split(\"\\t\")\n",
        "                words.append(line_split[0].lower())\n",
        "                labels.append(int(line_split[1]))\n",
        "            i += 1\n",
        "    return words, labels\n",
        "\n",
        "def load_unlabeled_file(data_file):\n",
        "    words = []\n",
        "    # labels = []\n",
        "    with open(data_file, 'rt', encoding=\"utf8\") as f:\n",
        "        words = [line.strip() for line in f.readlines() if len(line.strip()) > 0]\n",
        "    return words\n",
        "\n",
        "def load_test_file(data_file):\n",
        "    words = []\n",
        "    with open(data_file, 'rt', encoding=\"utf8\") as f:\n",
        "        next(f) # skip first line (header)\n",
        "        words = [line.strip().split('\\t')[0] for line in f.readlines() if len(line.strip()) > 0]\n",
        "    return words\n",
        "\n",
        "## Loads Google NGram counts\n",
        "def load_ngram_counts(ngram_counts_file = 'ngram_counts.txt.gz'):\n",
        "    counts = defaultdict(int)\n",
        "    with gzip.open(ngram_counts_file, 'rt') as f:\n",
        "        for line in f:\n",
        "            token, count = line.strip().split('\\t')\n",
        "            if token[0].islower():\n",
        "                counts[token] = int(count)\n",
        "    return counts\n",
        "ngram_counts = load_ngram_counts()"
      ],
      "metadata": {
        "id": "sBvFx6rmqMU5"
      },
      "execution_count": null,
      "outputs": []
    },
    {
      "cell_type": "markdown",
      "source": [
        "### About the data\n",
        "- `train_data`, `dev_data`: these are words with labels, provided for you to train and evaluate your models.\n",
        "- `mini_test_words`: this is a subset (50) of the unseen test dataset, we will provide test the **basic functionality** of your models based on the performance on this mini testset (PennGrader tests). **This would only be a basic sanity check of your implementation. The final grade would be based on the PennGrader Grades and manual grading on your implementation**\n",
        "- `test_words`: this is the full, unlabelled test set. You are expected to submit the prediction of these words at the end of the assignment."
      ],
      "metadata": {
        "id": "e-cTPv6O5JHn"
      }
    },
    {
      "cell_type": "code",
      "source": [
        "########## DO NOT CHANGE ##########\n",
        "train_data = load_labeled_file(train_file)\n",
        "dev_data = load_labeled_file(dev_file)\n",
        "mini_test_words = load_unlabeled_file(mini_test_file)\n",
        "test_words = load_test_file(test_file)\n",
        "\n",
        "# you can take a look at this mini-dev data by uncommenting this line\n",
        "dev_words, dev_labels = dev_data\n",
        "dev_words[:5] # some examples of this dev dataset"
      ],
      "metadata": {
        "id": "lM2zO3eB5I3U",
        "colab": {
          "base_uri": "https://localhost:8080/"
        },
        "outputId": "ed2f498a-53dc-4cb1-d71a-733a8422f781"
      },
      "execution_count": null,
      "outputs": [
        {
          "output_type": "execute_result",
          "data": {
            "text/plain": [
              "['hammer', 'renewable', 'showings', 'academy', 'continues']"
            ]
          },
          "metadata": {},
          "execution_count": 17
        }
      ]
    },
    {
      "cell_type": "code",
      "source": [
        "mini_test_words[:5]"
      ],
      "metadata": {
        "id": "spBhnflE5I0_",
        "colab": {
          "base_uri": "https://localhost:8080/"
        },
        "outputId": "5086c1ff-06da-4631-9ae0-841d4077b6b2"
      },
      "execution_count": null,
      "outputs": [
        {
          "output_type": "execute_result",
          "data": {
            "text/plain": [
              "['threads', 'reinforce', 'letters', 'pioneered', 'closer']"
            ]
          },
          "metadata": {},
          "execution_count": 18
        }
      ]
    },
    {
      "cell_type": "markdown",
      "source": [
        "# Section 1. Implement the Evaluation Metrics\n",
        "- You might find this [Wikipedia Page](https://en.wikipedia.org/wiki/Precision_and_recall) useful.\n",
        "- **Problem 1.1** Predicion, Recall, F1 Score"
      ],
      "metadata": {
        "id": "QxKLifghqGI1"
      }
    },
    {
      "cell_type": "code",
      "source": [
        "## Input: y_pred, a list of length n with the predicted labels,\n",
        "## y_true, a list of length n with the true labels\n",
        "\n",
        "## Calculates the precision of the predicted labels\n",
        "def get_precision(y_true, y_pred):\n",
        "    ## YOUR CODE HERE...\n",
        "\n",
        "    return precision\n",
        "\n",
        "## Calculates the recall of the predicted labels\n",
        "def get_recall(y_true, y_pred):\n",
        "    ## YOUR CODE HERE...\n",
        "\n",
        "    return recall\n",
        "\n",
        "## Calculates the f-score of the predicted labels\n",
        "def get_fscore(y_true, y_pred):\n",
        "    ## YOUR CODE HERE...\n",
        "\n",
        "    return fscore"
      ],
      "metadata": {
        "id": "XTSjcJi4qL9H"
      },
      "execution_count": null,
      "outputs": []
    },
    {
      "cell_type": "code",
      "source": [
        "#DO NOT CHANGE!\n",
        "\n",
        "from dill.source import getsource\n",
        "grader.grade(test_case_id = 'test_q11_eval_funcs', answer = (getsource(get_precision), getsource(get_recall), getsource(get_fscore)))"
      ],
      "metadata": {
        "id": "8IxXaxPwbMmQ",
        "colab": {
          "base_uri": "https://localhost:8080/"
        },
        "outputId": "d8ce919f-30a8-4c8c-8778-a69323d47172"
      },
      "execution_count": null,
      "outputs": [
        {
          "output_type": "stream",
          "name": "stdout",
          "text": [
            "You earned 0/12 points.\n",
            "\n",
            "But, don't worry, you can re-submit and we will keep only your latest score.\n"
          ]
        }
      ]
    },
    {
      "cell_type": "markdown",
      "source": [
        "# Section 2. Baselines"
      ],
      "metadata": {
        "id": "NPWqpba5qMkS"
      }
    },
    {
      "cell_type": "markdown",
      "source": [
        "## 2.1 Implement a majority class baseline\n",
        "You should start by implementing simple baselines as classifiers. Your first baseline is a **majority class baseline** which is one of the most simple classifier. You should complete the function `all_complex(words)`, which takes in a list of words, and returns out the predictions.\n"
      ],
      "metadata": {
        "id": "Ce_lQ23GrM04"
      }
    },
    {
      "cell_type": "markdown",
      "source": [
        "- **Problem 2.1:** Implement `all_complex()` that always predicts the majority class of the data (i.e. predicting every word as complex)"
      ],
      "metadata": {
        "id": "ZSscYsHl9Hrz"
      }
    },
    {
      "cell_type": "code",
      "source": [
        "## Labels every word complex\n",
        "def all_complex(words):\n",
        "    ## YOUR CODE HERE...\n",
        "    y_pred = []\n",
        "    return y_pred"
      ],
      "metadata": {
        "id": "PadhojvR81W2"
      },
      "execution_count": null,
      "outputs": []
    },
    {
      "cell_type": "markdown",
      "source": [
        "- **Answer 2.1:** Please report the precision, recall, and f-score on both the training data and the development data.\n",
        "    - Training **[TODO]**\n",
        "    - Development **[TODO]**"
      ],
      "metadata": {
        "id": "QTUh940XEA8W"
      }
    },
    {
      "cell_type": "code",
      "source": [
        "words, labels = dev_data\n",
        "y_pred = all_complex(words)\n",
        "precision = get_precision(labels, y_pred)\n",
        "recall = get_recall(labels, y_pred)\n",
        "fscore = get_fscore(labels, y_pred)\n",
        "fscore"
      ],
      "metadata": {
        "id": "DLTmB2aw0fgC"
      },
      "execution_count": null,
      "outputs": []
    },
    {
      "cell_type": "code",
      "source": [
        "# PennGrader - DO NOT CHANGE\n",
        "all_complex_pred = all_complex(mini_test_words)\n",
        "grader.grade(test_case_id = 'test_baseline_q21', answer = all_complex_pred)"
      ],
      "metadata": {
        "id": "lL_sMcF0RBfm"
      },
      "execution_count": null,
      "outputs": []
    },
    {
      "cell_type": "markdown",
      "source": [
        "## 2.2 Word length baseline\n",
        "For our next baseline, we will use a slightly complex baseline, the length of each word to predict its complexity.\n",
        "\n",
        "For the word length baseline, you should try setting various thresholds for word length to classify them as simple or otherwise. For example, you might set a threshold of 9, meaning that any words with less than 9 characters will be labeled simple, and any words with 9 characters or more will be labeled complex. Once you find the best threshold using the training data, use this same threshold for the development data as well.\n",
        "\n",
        "You will be filling in the function `word_length_threshold(train_data, dev_data)`. This function takes in both the training and development datasets, finds the best threshold on word length and returns out the predictions on development data for your best threshold.\n",
        "\n",
        "Usually, Precision and Recall are inversely related and while building binary-classification systems we try to find a good balance between them (by maximizing f-score, for example). It is often useful to plot the Precision-Recall curve for various settings of the classifier to gauge its performance and compare it to other classifiers. For example, for this baseline, a Precision-Recall curve can be plotted by plotting the Precision (on the y-axis) and Recall (on the X-axis) for different values of word-length threshold."
      ],
      "metadata": {
        "id": "CjVszF6NrOjr"
      }
    },
    {
      "cell_type": "markdown",
      "source": [
        "- **Problem 2.2:** Implement `word_length_threshold()` that finds the best word length threshold and makes predictions on the development (or testing) data."
      ],
      "metadata": {
        "id": "AIDngmGzQSOV"
      }
    },
    {
      "cell_type": "code",
      "source": [
        "### 2.2: Word length thresholding\n",
        "## Makes feature matrix for word_length_threshold\n",
        "def length_threshold_feature(words, threshold):\n",
        "    # return predictions based on the threshold\n",
        "    pass\n",
        "\n",
        "## Finds the best length threshold by f-score, and uses this threshold to\n",
        "## classify the training and development set\n",
        "def word_length_threshold(train_data, dev_data):\n",
        "    twords, tlabels = train_data\n",
        "\n",
        "    ## YOUR CODE HERE\n",
        "    dev_pred = []\n",
        "    return dev_pred"
      ],
      "metadata": {
        "id": "ilbOj1BckJ8L"
      },
      "execution_count": null,
      "outputs": []
    },
    {
      "cell_type": "markdown",
      "source": [
        "- **Answer 2.2:** Please report the precision, recall, and f-score on both the training data and the development data.\n",
        "    - Range of thresholds **[TODO]**\n",
        "    - Training **[TODO]**\n",
        "    - Development **[TODO]**\n",
        "    - Precision-recall Curve **[Plot below]**\n",
        "        - For plotting, [matplotlib](https://matplotlib.org/) is a useful python library"
      ],
      "metadata": {
        "id": "x4-j-HuIEnvy"
      }
    },
    {
      "cell_type": "code",
      "source": [
        "dwords, dlabels = dev_data\n",
        "y_pred = word_length_threshold(train_data, dwords)\n",
        "dprecision = get_precision(dlabels, y_pred)\n",
        "drecall = get_recall(dlabels, y_pred)\n",
        "dfscore = get_recall(dlabels, y_pred)\n",
        "dfscore"
      ],
      "metadata": {
        "id": "lHbIK7B4_wat"
      },
      "execution_count": null,
      "outputs": []
    },
    {
      "cell_type": "code",
      "source": [
        "## TODO\n",
        "# precision-recall curve goes here"
      ],
      "metadata": {
        "id": "fTh3189irQYO"
      },
      "execution_count": null,
      "outputs": []
    },
    {
      "cell_type": "code",
      "source": [
        "# PennGrader - DO NOT CHANGE\n",
        "word_length_pred = word_length_threshold(train_data, mini_test_words)\n",
        "grader.grade(test_case_id = 'test_baseline_q22', answer = word_length_pred)"
      ],
      "metadata": {
        "id": "MQuSkuYc8TeJ"
      },
      "execution_count": null,
      "outputs": []
    },
    {
      "cell_type": "markdown",
      "source": [
        "## 2.3 Word frequency baseline\n"
      ],
      "metadata": {
        "id": "_6m7o8VwrQ4x"
      }
    },
    {
      "cell_type": "markdown",
      "source": [
        "Our final baseline is a classifier similar to the last one, but thresholds on word frequency instead of length. We have provided Google NGram frequencies in the text file ngram_counts.txt, along with the helper function `load_ngram_counts(ngram_counts_file)` to load them into Python as a dictionary.\n",
        "\n",
        "You will be filling in the function `word_frequency_threshold(train_data, dev_data, ngram_counts)`, where `ngram_counts` is the dictionary of word frequencies. This function again finds the best threshold and returns predictions on the development data.\n",
        "\n",
        "Please again report the precision, recall, and f-score on the training and development data individually, along with the range of thresholds you tried, and the best threshold to be graded. Similar to the previous baseline, plot the Precision-Recall curve for range of thresholds you tried. Compared with word length baseline, which classifier looks better on average?\n",
        "\n",
        "**Note: Due to its size, loading the ngram counts into Python takes around 20 seconds, and finding the correct threshold may take a few minutes to run.**"
      ],
      "metadata": {
        "id": "Bm3Lh9kvFaF5"
      }
    },
    {
      "cell_type": "markdown",
      "source": [
        "- **Problem 2.3:** Implement `word_frequency_threshold()` that finds the best word frequency threshold and makes predictions on the development (or testing) data."
      ],
      "metadata": {
        "id": "JnceCMcoQuRg"
      }
    },
    {
      "cell_type": "code",
      "source": [
        "## Make feature matrix for word_frequency_threshold\n",
        "def frequency_threshold_feature(words, threshold, ngram_counts):\n",
        "    # return predictions based on the threshold\n",
        "    ## YOUR CODE HERE\n",
        "    # hint: check the content of `ngram_counts` variable\n",
        "    pass\n",
        "def word_frequency_threshold(train_data, dev_data, ngram_counts):\n",
        "    twords, tlabels = train_data\n",
        "\n",
        "    ## YOUR CODE HERE\n",
        "\n",
        "    dev_pred = []\n",
        "    return dev_pred"
      ],
      "metadata": {
        "id": "Mnkit06ncN07"
      },
      "execution_count": null,
      "outputs": []
    },
    {
      "cell_type": "markdown",
      "source": [
        "- **Answer 2.3:** Please report the precision, recall, and f-score on both the training data and the development data.\n",
        "    - Range of thresholds **[TODO]**\n",
        "    - Training **[TODO]**\n",
        "    - Development **[TODO]**\n",
        "    - Precision-recall Curve **[Plot below]**\n",
        "        - For plotting, [matplotlib](https://matplotlib.org/) is a useful python library"
      ],
      "metadata": {
        "id": "Rw-WAjxIFiiI"
      }
    },
    {
      "cell_type": "code",
      "source": [
        "dwords, dlabels = dev_data\n",
        "y_pred = word_frequency_threshold(train_data, dwords, ngram_counts)\n",
        "\n",
        "dprecision = get_precision(dlabels, y_pred)\n",
        "drecall = get_recall(dlabels, y_pred)\n",
        "dfscore = get_recall(dlabels, y_pred)\n",
        "dfscore"
      ],
      "metadata": {
        "id": "USVhRHQO_uEn"
      },
      "execution_count": null,
      "outputs": []
    },
    {
      "cell_type": "code",
      "source": [
        "## TODO\n",
        "# precision-recall curve goes here"
      ],
      "metadata": {
        "id": "M4Kn7AwbX6WT"
      },
      "execution_count": null,
      "outputs": []
    },
    {
      "cell_type": "code",
      "source": [
        "# PennGrader - DO NOT CHANGE\n",
        "word_freq_pred = word_frequency_threshold(train_data, mini_test_words, ngram_counts)\n",
        "grader.grade(test_case_id = 'test_baseline_q23', answer = word_freq_pred)"
      ],
      "metadata": {
        "id": "Opp9TploM5N8"
      },
      "execution_count": null,
      "outputs": []
    },
    {
      "cell_type": "markdown",
      "source": [
        "# Section 3. Classifiers"
      ],
      "metadata": {
        "id": "vL8m-NpOqTDG"
      }
    },
    {
      "cell_type": "markdown",
      "source": [
        "## 3.1 Naive Bayes classification\n"
      ],
      "metadata": {
        "id": "QCeaRTgprTWe"
      }
    },
    {
      "cell_type": "markdown",
      "source": [
        "Now, let’s move on to actual machine learning classifiers! For our first classifier, you will use the built-in [Naive Bayes model from sklearn](https://scikit-learn.org/stable/modules/generated/sklearn.naive_bayes.GaussianNB.html), to train a classifier. You should refer to the online sklearn documentation when you are building your classifier.\n",
        "\n",
        "The first thing to note is that sklearn classifiers take in `numpy` arrays, rather than regular lists. You may use the [online numpy documentation](https://numpy.org/doc/stable/). To create a `numpy` list of length 5, you can use the following Python commands:\n",
        "\n",
        "```\n",
        "import numpy as np\n",
        "X = np.array([1,2,3,4,5])\n",
        "```\n",
        "\n",
        "\n",
        "To train a classifier, you need two numpy arrays: `X_train`, an `m` by `n` array, where `m` is the number of words in the dataset, and `n` is the number of features for each word; and `Y`, an array of length `m` for the labels of each of the words.\n",
        "\n",
        "**Before we start training models, we need to convert our texts/words into numpy arrays, i.e. making training/testing feature vectors.**"
      ],
      "metadata": {
        "id": "38p7gBNVFvoG"
      }
    },
    {
      "cell_type": "markdown",
      "source": [
        "- **Problem 3.0**: Implementing `get_training_features()` and `get_test_features()` that convert train/test dataset to numpy arrays"
      ],
      "metadata": {
        "id": "nnO1kcuNENCe"
      }
    },
    {
      "cell_type": "code",
      "source": [
        "%%capture\n",
        "# run the following cell if you want to use count of syllabus as a feature\n",
        "!pip install syllables\n",
        "import syllables"
      ],
      "metadata": {
        "id": "9ILfZ05JGRtJ"
      },
      "execution_count": null,
      "outputs": []
    },
    {
      "cell_type": "code",
      "source": [
        "def get_training_features(train_data, ngram_counts):\n",
        "    words, y_true = train_data\n",
        "    features = []\n",
        "    for word in words:\n",
        "        ## YOUR CODE HERE\n",
        "        # 1. word length feature\n",
        "        # 2. unigram frequency feature\n",
        "        # 3. (optional) syllables count feature\n",
        "        pass\n",
        "\n",
        "    X = np.asarray(features)\n",
        "    ## YOUR CODE HERE\n",
        "    # TODO: calculate the mean and std of the vectorized data (X)\n",
        "    means = ...\n",
        "    stds = ...\n",
        "\n",
        "    # TODO: calculate the scaled data, with the mean and std you just calculated\n",
        "    X_scaled = ...\n",
        "\n",
        "    Y = np.asarray(y_true)\n",
        "    return X_scaled, Y, means, stds\n",
        "\n",
        "def get_test_features(test_words, ngram_counts, means, stds):\n",
        "\n",
        "    ## YOUR CODE HERE\n",
        "    # TODO: do the similar thing, except using means and stds as given (from training data)\n",
        "    X_scaled = ...\n",
        "\n",
        "    return X_scaled"
      ],
      "metadata": {
        "id": "YEkrjHTcEUiu"
      },
      "execution_count": null,
      "outputs": []
    },
    {
      "cell_type": "code",
      "source": [
        "# PennGrader - DO NOT CHANGE\n",
        "X_train, Y_train, means, stds = get_training_features(train_data, ngram_counts)\n",
        "X_dev = get_test_features(dev_data[0], ngram_counts, means, stds)\n",
        "\n",
        "train_feats = (X_train, Y_train, means, stds)\n",
        "test_feats = (X_dev)\n",
        "\n",
        "grader.grade(test_case_id = 'test_q30_test_feature_shapes', answer = (train_feats, test_feats))"
      ],
      "metadata": {
        "id": "EX1yJMFvIqo6"
      },
      "execution_count": null,
      "outputs": []
    },
    {
      "cell_type": "markdown",
      "source": [
        "Once we have these feature arrays, we can fit a Naive Bayes classifier using the following commands:\n",
        "```\n",
        "from sklearn.naive_bayes import GaussianNB\n",
        "clf = GaussianNB()\n",
        "clf.fit(X_train, Y)\n",
        "```\n",
        "Finally, to use your model to predict the labels for a set of words, you only need one numpy array: `X_test`, an `m` by `n` array, where `m` is the number of words in the test set, and `n` is the number of features for each word. Note that the `n` used here is the same as the `n` in `X_train`. Then, we can use our classifier to predict labels using the following command:\n",
        "\n",
        "```\n",
        "Y_pred = clf.predict(X_test)\n",
        "```"
      ],
      "metadata": {
        "id": "dAd7V6R4GLP-"
      }
    },
    {
      "cell_type": "markdown",
      "source": [
        "- **Problem 3.1**: Fill in the function `naive_bayes(train_data, dev_data, ngram_counts)`. This function will train a Naive Bayes classifier on the training data using **word length** and **word frequency** as features, and returns your model’s predictions on the training data and the development data individually.\n",
        "    - **NOTE**: Before training and testing a classifier, it is generally important to normalize your features. This means that you need to find the mean and standard deviation (sd) of a feature. Then, for each row, perform the following transformation: `X_scaled = (X_original - mean)/sd`. **Be sure to always use the means and standard deviations from the training data**.\n",
        "    - **Optional**: You can include more features if you want to, e.g. [the count of syllabus](https://github.com/prosegrinder/python-syllables)\n"
      ],
      "metadata": {
        "id": "vOFLzpw3ZApH"
      }
    },
    {
      "cell_type": "code",
      "source": [
        "from sklearn.linear_model import LogisticRegression\n",
        "from sklearn.naive_bayes import GaussianNB"
      ],
      "metadata": {
        "id": "mQcxSw3B4EWx"
      },
      "execution_count": null,
      "outputs": []
    },
    {
      "cell_type": "code",
      "source": [
        "## Trains a Naive Bayes classifier using length and frequency features\n",
        "def naive_bayes(train_data, dev_data, ngram_counts):\n",
        "    # TODO\n",
        "    # 1. Gets the features from the training data, and trains the model\n",
        "    # 2. Train model & inference on test_words\n",
        "    ## YOUR CODE HERE\n",
        "    train_pred, test_pred = None, None\n",
        "\n",
        "    return train_pred, test_pred"
      ],
      "metadata": {
        "id": "HDy-VjftqUoC"
      },
      "execution_count": null,
      "outputs": []
    },
    {
      "cell_type": "markdown",
      "source": [
        "- **Answer 3.1:** Please report the precision, recall, and f-score on both the training data and the development data.\n",
        "    - Training **[TODO]**\n",
        "    - Development **[TODO]**"
      ],
      "metadata": {
        "id": "Ss589ydpGSY1"
      }
    },
    {
      "cell_type": "code",
      "source": [
        "# report train/development metrics!\n",
        "dev_text, dev_labels = dev_data\n",
        "train_pred, dev_pred = naive_bayes(train_data, dev_text, ngram_counts)\n",
        "dev_precision = get_precision(dev_labels, dev_pred)\n",
        "dev_recall = get_recall(dev_labels, dev_pred)\n",
        "dev_f = get_fscore(dev_labels, dev_pred)\n",
        "dev_f"
      ],
      "metadata": {
        "id": "aC3BVu5o_X5H"
      },
      "execution_count": null,
      "outputs": []
    },
    {
      "cell_type": "code",
      "source": [
        "# PennGrader - DO NOT CHANGE\n",
        "train_pred, mini_test_pred = naive_bayes(train_data, mini_test_words, ngram_counts)\n",
        "grader.grade(test_case_id = 'test_naive_bayes', answer = mini_test_pred)"
      ],
      "metadata": {
        "id": "dqKUYfbtrVkx"
      },
      "execution_count": null,
      "outputs": []
    },
    {
      "cell_type": "markdown",
      "source": [
        "## 3.2 Logistic Regression\n",
        "Next, you will use sklearn’s built-in Logistic Regression classifier. Again, we will use word length and word frequency as your two features. You should refer to [the online sklearn documentation](https://scikit-learn.org/stable/modules/generated/sklearn.linear_model.LogisticRegression.html) when you are building your classifier. To import and use this model, use the following command:\n",
        "\n",
        "```\n",
        "from sklearn.linear_model import LogisticRegression\n",
        "clf = LogisticRegression()\n",
        "```\n",
        "\n",
        "- **Problem 3.2**: For this problem, you will be filling in the function `logistic_regression(train_data, dev_data, ngram_counts)`. This function will train a `Logistic Regression` classifier on the training data, and returns your model’s predictions on the training data and the development data individually.\n"
      ],
      "metadata": {
        "id": "uo8GAjvxrVzw"
      }
    },
    {
      "cell_type": "code",
      "source": [
        "## Trains a logistic regression classifier using length and frequency features\n",
        "def logistic_regression(train_data, dev_data, ngram_counts):\n",
        "    ## TODO\n",
        "    train_pred, test_pred = None, None\n",
        "    return train_pred, dev_pred"
      ],
      "metadata": {
        "id": "ggRdb6zYrVgN"
      },
      "execution_count": null,
      "outputs": []
    },
    {
      "cell_type": "markdown",
      "source": [
        "- **Answer 3.2:** Please report the precision, recall, and f-score on both the training data and the development data.\n",
        "    - Training **[TODO]**\n",
        "    - Development **[TODO]**"
      ],
      "metadata": {
        "id": "PDH4MMIy_kke"
      }
    },
    {
      "cell_type": "code",
      "source": [
        "dev_text, dev_labels = dev_data\n",
        "train_pred, dev_pred = logistic_regression(train_data, dev_text, ngram_counts)\n",
        "dev_precision = get_precision(dev_labels, dev_pred)\n",
        "dev_recall = get_recall(dev_labels, dev_pred)\n",
        "dev_f = get_fscore(dev_labels, dev_pred)\n",
        "dev_f"
      ],
      "metadata": {
        "id": "emRXThKD_noX"
      },
      "execution_count": null,
      "outputs": []
    },
    {
      "cell_type": "code",
      "source": [
        "# PennGrader - DO NOT CHANGE\n",
        "train_pred, mini_test_pred = logistic_regression(train_data, mini_test_words, ngram_counts)\n",
        "grader.grade(test_case_id = 'test_logistic', answer = mini_test_pred)"
      ],
      "metadata": {
        "id": "URxmIQiNTBMQ"
      },
      "execution_count": null,
      "outputs": []
    },
    {
      "cell_type": "markdown",
      "source": [
        "## 3.3 Comparing Naive Bayes and Logistic Regression\n",
        "- **Answer 3.3**: After implementing Naive Bayes and Logistic Regression classifiers, you will notice that their performance is not identical, even though they are given the same data. **Write a paragraph below that discusses which model performed better on this task and what are the potential reasons.**\n",
        "    - [TODO: discussion of the differences]"
      ],
      "metadata": {
        "id": "qJoKAFpfrYQ7"
      }
    },
    {
      "cell_type": "code",
      "source": [],
      "metadata": {
        "id": "ol8-C21_qUl7"
      },
      "execution_count": null,
      "outputs": []
    },
    {
      "cell_type": "markdown",
      "source": [
        "# Section 4. Build your own model\n",
        "Finally, the fun part! In this section, you will build your own classifier for the complex word identification task, and compare your results to that of your classmates. You will also perform an error analysis for your best performing model.\n",
        "\n",
        "You can choose any other types of classifier, and any additional features you can think of!\n",
        "- For classifiers, beyond `Naive Bayes` and `Logistic Regression`, you might consider trying `SVM`, `Decision Trees`, and `Random Forests`, among others.\n",
        "- Additional word features that you might consider include number of syllables, number of `WordNet` synonyms, and number of `WordNet` senses. To use WordNet in Python, refer to [this documentation](http://www.nltk.org/howto/wordnet.html).\n",
        "- You could also include sentence-based complexity features, such as length of the sentence, average word length, and average word frequency.\n",
        "\n",
        "When trying different classifiers, we recommend that you train on training data, and test on the development data, like the previous sections.\n",
        "\n",
        "In the following cell, please include a description of **all of the models** and **features** that you tried. To receive full credit, you MUST try **at least 1 type of classifier** (not including `Naive Bayes` and `Logistic Regression`), and **at least two features** (not including length and frequency).\n",
        "\n",
        "**Note**: You can also tune the parameters of your model, e.g. what type of kernel to use. This is NOT required, as some of you may not be that familiar with this.\n",
        "\n"
      ],
      "metadata": {
        "id": "BFBpm0kdqU2V"
      }
    },
    {
      "cell_type": "markdown",
      "source": [
        "## 4.1 Your Own Model\n",
        "\n",
        "An important part of text classification tasks is to determine what your model is getting correct, and what your model is getting wrong. For this problem, you must train your best model on the training data, and report the precision, recall, and f-score on the development data. In order to receive full credit, your model must be able to outperform all of the baselines."
      ],
      "metadata": {
        "id": "O1jCYFXIra-O"
      }
    },
    {
      "cell_type": "markdown",
      "source": [
        "- **Answer 4.1**: Train your best model on the training data, and report the precision, recall, and f-score on the development data"
      ],
      "metadata": {
        "id": "mGQck2ObXjqi"
      }
    },
    {
      "cell_type": "code",
      "source": [],
      "metadata": {
        "id": "_jegC2FnqUj2"
      },
      "execution_count": null,
      "outputs": []
    },
    {
      "cell_type": "markdown",
      "source": [
        "## 4.2 Analyze your model\n",
        "\n",
        "\n",
        "Describe the model and features you choose, and perform a detailed error analysis of your models. Give several examples of words on which your best model performs well. Also give examples of words which your best model performs poorly on, and identify at least TWO categories of words on which your model is making errors.\n",
        "\n",
        "\n"
      ],
      "metadata": {
        "id": "oNCeUFiPrcoO"
      }
    },
    {
      "cell_type": "markdown",
      "source": [
        "- **Answer 4.2**: Write a detailed description of your model and features used. Also include error analysis of your model."
      ],
      "metadata": {
        "id": "HXJgfZDyX3DW"
      }
    },
    {
      "cell_type": "code",
      "source": [],
      "metadata": {
        "id": "P8TlPZBEqUfK"
      },
      "execution_count": null,
      "outputs": []
    },
    {
      "cell_type": "markdown",
      "source": [
        "## 4.3 Leaderboard\n",
        "Finally, use your classifier to predict labels for the test data, and submit these labels in a text file named `test_labels.txt` (with one label per line) to the leaderboard; be sure NOT to shuffle the order of the test examples. Instructions for how to post to the leaderboard will be posted on Ed soon.\n",
        "**In addition, the top 3 teams will receive 5 bonus points!**"
      ],
      "metadata": {
        "id": "UyVWDdmprepx"
      }
    },
    {
      "cell_type": "code",
      "source": [
        "train_pred, test_pred = `your_model_here`(train_data, test_words, ngram_counts)\n",
        "with open('test_labels.txt', 'w') as f:\n",
        "    f.write(\"\\n\".join(map(str, test_pred)))"
      ],
      "metadata": {
        "id": "Aqh2598xqPxN"
      },
      "execution_count": null,
      "outputs": []
    },
    {
      "cell_type": "markdown",
      "source": [
        "- **Answer 4.3**: Upload your `test_labels.txt` to the leaderboard in Gradescope."
      ],
      "metadata": {
        "id": "K5F0dXt8YiGq"
      }
    },
    {
      "cell_type": "markdown",
      "source": [
        "## 4.4. (Optional) Leaderboard using outside data\n",
        "\n",
        "While the training data we have provided is sufficient for completing this assignment, it is not the only data for the task of identifying complex words. As an optional addition to this homework, you may look for and use any additional training data, and submit your predicted labels in a text file named `test_labels.txt` to the leaderboard.\n",
        "\n",
        "As a start, we recommend looking at the [SemEval 2016 dataset](http://alt.qcri.org/semeval2016/task11/), a dataset that was used in a complex words identification competition. In addition, you can try to use data from [Newsela](https://newsela.com/). Newsela’s editors re-write newspaper articles to be appropriate for students at different grade levels. The company has generously shared a dataset with us. The Newsela data **may not** be re-distributed outside of Penn. You can find the data on eniac at `/home1/c/ccb/data/newsela/newsela_article_corpus_with_scripts_2016-01-29.1.zip`.\n",
        "\n",
        "Good luck, and have fun!"
      ],
      "metadata": {
        "id": "fIaGDgYzrhL_"
      }
    },
    {
      "cell_type": "code",
      "source": [],
      "metadata": {
        "id": "AbyX1IXIrgqz"
      },
      "execution_count": null,
      "outputs": []
    },
    {
      "cell_type": "code",
      "source": [],
      "metadata": {
        "id": "XCY1seclrgov"
      },
      "execution_count": null,
      "outputs": []
    },
    {
      "cell_type": "code",
      "source": [],
      "metadata": {
        "id": "vRrRtpeJrkRp"
      },
      "execution_count": null,
      "outputs": []
    },
    {
      "cell_type": "markdown",
      "source": [
        "# Submission\n",
        "Here are the deliverables that you will need to submit:\n",
        "- This notebook (rename them to `homework1.ipynb` and `homework1.py`)\n",
        "- Your model’s output for the test set using only the provided training and development data (`test_labels.txt`)\n",
        "- (Optional) your model’s output for the test set, using any data that you want. (`test_labels.txt`)"
      ],
      "metadata": {
        "id": "zve_zJnFrkgy"
      }
    },
    {
      "cell_type": "code",
      "source": [],
      "metadata": {
        "id": "07TwqC3NxfIe"
      },
      "execution_count": null,
      "outputs": []
    }
  ]
}